{
 "cells": [
  {
   "cell_type": "markdown",
   "metadata": {},
   "source": [
    "### This file is a simulation of the consumers. \n",
    "It is a simple simulation that uses the same logic as the one used in the main code. It is used to test the main code and to generate the output for the consumers, without needing to run Kafka."
   ]
  },
  {
   "cell_type": "code",
   "execution_count": 75,
   "metadata": {},
   "outputs": [],
   "source": [
    "import ijson\n",
    "\n",
    "filename = \"preprocessed_for_itemsets.json\"\n",
    "with open(filename, 'r') as file:\n",
    "    objects = ijson.items(file, 'item')\n",
    "    items = list(next(objects) for _ in range(10))\n",
    "\n",
    "# Now 'items' is a list of the first 500 items from the JSON array"
   ]
  },
  {
   "cell_type": "markdown",
   "metadata": {},
   "source": [
    "## Consumer 1: A-Priori"
   ]
  },
  {
   "cell_type": "code",
   "execution_count": 78,
   "metadata": {},
   "outputs": [],
   "source": [
    "class EnhancedStreamSimulator:\n",
    "    def __init__(self, max_window_size=1000):\n",
    "        self.max_window_size = max_window_size\n",
    "        self.window = []\n",
    "\n",
    "    def push_transaction(self, json_data):\n",
    "        # Extract and clean data\n",
    "        category = tuple(json_data['category'])  # Convert list to tuple to maintain structure\n",
    "        main_cat = json_data['main_cat']\n",
    "        features = tuple(f for f in json_data['features'] if f)  # filter out empty strings\n",
    "        brand = json_data['brand']\n",
    "\n",
    "        # Create a composite item as a tuple including all elements\n",
    "        composite_item = (category, main_cat, features, brand)\n",
    "        # Append the composite item to the window\n",
    "        self.window.append(composite_item)\n",
    "        if len(self.window) > self.max_window_size:\n",
    "            self.window.pop(0)\n",
    "\n",
    "    def get_window(self):\n",
    "        return self.window\n",
    "\n",
    "class EnhancedAPriori:\n",
    "    def __init__(self, min_support=0.05):\n",
    "        self.min_support = min_support\n",
    "    \n",
    "    def frequent_itemsets(self, transactions):\n",
    "        item_counts = {}\n",
    "        for transaction in transactions:\n",
    "            if transaction in item_counts:\n",
    "                item_counts[transaction] += 1\n",
    "            else:\n",
    "                item_counts[transaction] = 1\n",
    "        \n",
    "        total_transactions = len(transactions)\n",
    "        print(\"Total Transactions:\", total_transactions)\n",
    "        frequent_itemsets = {itemset: count for itemset, count in item_counts.items() if count / total_transactions >= self.min_support}\n",
    "        print(\"Frequent Itemsets:\", frequent_itemsets)\n",
    "        return frequent_itemsets\n",
    "\n",
    "\n",
    "# Example simulation of data input and processing\n",
    "stream_simulator = EnhancedStreamSimulator(max_window_size=1000)\n",
    "enhanced_a_priori = EnhancedAPriori(min_support=0.01)\n",
    "\n",
    "# Simulate streaming data and apply the A-priori algorithm.\n",
    "for item in items:\n",
    "    stream_simulator.push_transaction(item)"
   ]
  },
  {
   "cell_type": "code",
   "execution_count": 79,
   "metadata": {},
   "outputs": [
    {
     "name": "stdout",
     "output_type": "stream",
     "text": [
      "Total Transactions: 10\n",
      "Frequent Itemsets: {(('Clothing, Shoes & Jewelry', 'Novelty & More', 'Clothing', 'Novelty'), 'AMAZON FASHION', ('100 Cotton', 'Imported', 'Machine Wash', 'Short sleeve crew neck adult tshirt', 'Officially licensed nirvana product'), 'FEA'): 1, (('Clothing, Shoes & Jewelry', 'Men', 'Watches', 'Wrist Watches', 'Made in USA and Imported', 'Quartz movement', 'Mineral crystal', 'Water resistant to 165 feet (50 M): suitable for swimming and showering', 'Micro Light; Daily Alarm'), 'AMAZON FASHION', (), 'Casio'): 1, (('Clothing, Shoes & Jewelry', 'Uniforms, Work & Safety', 'Clothing', 'Military', 'cotton', 'Rothcos Mock Turtleneck Is Made Of A Comfortable 100% Cotton Material', 'Collar And Cuffs Are 95% Cotton And 5% Spandex', 'Perfect Undershirt For Cold Weather Environments', 'Excellent for Law Enforcement & Public Safety Personnel'), 'Unknown Category', ('cotton', 'Rothcos Mock Turtleneck Is Made Of A Comfortable 100 Cotton Material', 'Collar And Cuffs Are 95 Cotton And 5 Spandex', 'Perfect Undershirt For Cold Weather Environments', 'Excellent for Law Enforcement  Public Safety Personnel'), 'Rothco'): 1, (('Clothing, Shoes & Jewelry', 'Men', 'Shoes', 'Fashion Sneakers'), 'Unknown Category', ('100 Rubber', 'Imported', 'manmadesole sole', 'Shaft measures approximately 45 from arch', 'Platform measures approximately 025', 'HiTop sneakers', 'Lace up closure', 'Canvas upper'), ''): 1, (('Clothing, Shoes & Jewelry', 'Men', 'Shoes', 'Athletic', 'Running', 'Trail Running', '100% Synthetic and textile', 'Imported', 'Rubber sole', '10.2 ounces', '8 millimeter offset', 'Heel grid system', 'Rugged mesh', 'Everyday trail running shoe'), 'AMAZON FASHION', ('100 Synthetic and textile', 'Imported', 'Rubber sole', '102 ounces', '8 millimeter offset', 'Heel grid system', 'Rugged mesh', 'Everyday trail running shoe'), 'Saucony'): 1, (('Clothing, Shoes & Jewelry', 'Men', 'Dupont Supplex 3-ply nylon 7 pockets including cordura lined pliers pocket 27 bar tacks 18\" outseam | 7.5\" inseam light weight, strong, comfortable stain resistant finish'), 'Unknown Category', ('Dupont Supplex 3ply nylon 7 pockets including cordura lined pliers pocket 27 bar tacks 18 outseam  75 inseam light weight strong comfortable stain resistant finish',), 'AFTCO'): 1, (('Clothing, Shoes & Jewelry', 'Men', 'Accessories', 'Gloves & Mittens', 'Mittens', \"Men's winter leather mittens with three layers of warmth\", 'Elastic wrist with Velcro strap to lock in warmth', 'Made of genuine cowhide', 'Lined with two layers of thick polyester', 'Made In Canada'), 'AMAZON FASHION', ('Mens winter leather mittens with three layers of warmth', 'Elastic wrist with Velcro strap to lock in warmth', 'Made of genuine cowhide', 'Lined with two layers of thick polyester', 'Made In Canada'), 'Raber Gloves'): 1, (('Clothing, Shoes & Jewelry', 'Men', 'Shoes', 'Slippers'), 'AMAZON FASHION', (), ''): 1, (('Clothing, Shoes & Jewelry', 'Men', 'Accessories', 'Belts'), 'Unknown Category', ('100 Heavy Duty Cotton', '1 34 inch wide', 'Multiple lengthwise stitching for durability', 'Ends folded and stitched NOT just heat cut'), 'Tiger Claw'): 1, (('Clothing, Shoes & Jewelry', 'Men', 'Uniforms, Work & Safety', 'Clothing', 'Work Utility & Safety', 'Tops'), 'AMAZON FASHION', (), ''): 1}\n",
      "{(('Clothing, Shoes & Jewelry', 'Novelty & More', 'Clothing', 'Novelty'), 'AMAZON FASHION', ('100 Cotton', 'Imported', 'Machine Wash', 'Short sleeve crew neck adult tshirt', 'Officially licensed nirvana product'), 'FEA'): 1, (('Clothing, Shoes & Jewelry', 'Men', 'Watches', 'Wrist Watches', 'Made in USA and Imported', 'Quartz movement', 'Mineral crystal', 'Water resistant to 165 feet (50 M): suitable for swimming and showering', 'Micro Light; Daily Alarm'), 'AMAZON FASHION', (), 'Casio'): 1, (('Clothing, Shoes & Jewelry', 'Uniforms, Work & Safety', 'Clothing', 'Military', 'cotton', 'Rothcos Mock Turtleneck Is Made Of A Comfortable 100% Cotton Material', 'Collar And Cuffs Are 95% Cotton And 5% Spandex', 'Perfect Undershirt For Cold Weather Environments', 'Excellent for Law Enforcement & Public Safety Personnel'), 'Unknown Category', ('cotton', 'Rothcos Mock Turtleneck Is Made Of A Comfortable 100 Cotton Material', 'Collar And Cuffs Are 95 Cotton And 5 Spandex', 'Perfect Undershirt For Cold Weather Environments', 'Excellent for Law Enforcement  Public Safety Personnel'), 'Rothco'): 1, (('Clothing, Shoes & Jewelry', 'Men', 'Shoes', 'Fashion Sneakers'), 'Unknown Category', ('100 Rubber', 'Imported', 'manmadesole sole', 'Shaft measures approximately 45 from arch', 'Platform measures approximately 025', 'HiTop sneakers', 'Lace up closure', 'Canvas upper'), ''): 1, (('Clothing, Shoes & Jewelry', 'Men', 'Shoes', 'Athletic', 'Running', 'Trail Running', '100% Synthetic and textile', 'Imported', 'Rubber sole', '10.2 ounces', '8 millimeter offset', 'Heel grid system', 'Rugged mesh', 'Everyday trail running shoe'), 'AMAZON FASHION', ('100 Synthetic and textile', 'Imported', 'Rubber sole', '102 ounces', '8 millimeter offset', 'Heel grid system', 'Rugged mesh', 'Everyday trail running shoe'), 'Saucony'): 1, (('Clothing, Shoes & Jewelry', 'Men', 'Dupont Supplex 3-ply nylon 7 pockets including cordura lined pliers pocket 27 bar tacks 18\" outseam | 7.5\" inseam light weight, strong, comfortable stain resistant finish'), 'Unknown Category', ('Dupont Supplex 3ply nylon 7 pockets including cordura lined pliers pocket 27 bar tacks 18 outseam  75 inseam light weight strong comfortable stain resistant finish',), 'AFTCO'): 1, (('Clothing, Shoes & Jewelry', 'Men', 'Accessories', 'Gloves & Mittens', 'Mittens', \"Men's winter leather mittens with three layers of warmth\", 'Elastic wrist with Velcro strap to lock in warmth', 'Made of genuine cowhide', 'Lined with two layers of thick polyester', 'Made In Canada'), 'AMAZON FASHION', ('Mens winter leather mittens with three layers of warmth', 'Elastic wrist with Velcro strap to lock in warmth', 'Made of genuine cowhide', 'Lined with two layers of thick polyester', 'Made In Canada'), 'Raber Gloves'): 1, (('Clothing, Shoes & Jewelry', 'Men', 'Shoes', 'Slippers'), 'AMAZON FASHION', (), ''): 1, (('Clothing, Shoes & Jewelry', 'Men', 'Accessories', 'Belts'), 'Unknown Category', ('100 Heavy Duty Cotton', '1 34 inch wide', 'Multiple lengthwise stitching for durability', 'Ends folded and stitched NOT just heat cut'), 'Tiger Claw'): 1, (('Clothing, Shoes & Jewelry', 'Men', 'Uniforms, Work & Safety', 'Clothing', 'Work Utility & Safety', 'Tops'), 'AMAZON FASHION', (), ''): 1}\n"
     ]
    }
   ],
   "source": [
    "# Retrieve the window and apply A-priori to find frequent itemsets\n",
    "current_window = stream_simulator.get_window()\n",
    "frequent_itemsets = enhanced_a_priori.frequent_itemsets(current_window)\n",
    "print(frequent_itemsets)"
   ]
  },
  {
   "cell_type": "markdown",
   "metadata": {},
   "source": [
    "## Consumer 2: PCY"
   ]
  },
  {
   "cell_type": "code",
   "execution_count": null,
   "metadata": {},
   "outputs": [],
   "source": []
  }
 ],
 "metadata": {
  "kernelspec": {
   "display_name": "Python 3",
   "language": "python",
   "name": "python3"
  },
  "language_info": {
   "codemirror_mode": {
    "name": "ipython",
    "version": 3
   },
   "file_extension": ".py",
   "mimetype": "text/x-python",
   "name": "python",
   "nbconvert_exporter": "python",
   "pygments_lexer": "ipython3",
   "version": "3.12.2"
  }
 },
 "nbformat": 4,
 "nbformat_minor": 2
}
